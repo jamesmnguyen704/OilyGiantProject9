{
 "cells": [
  {
   "cell_type": "markdown",
   "metadata": {},
   "source": [
    "# Research Project Synopsis\n",
    "\n",
    "## Title: \n",
    "**Strategic Development of Oil Wells in Diverse Terrains**\n",
    "\n",
    "## Objective:\n",
    "The primary objective of the research is to **identify the most lucrative oil well locations** for OilyGiant Mining Co. by evaluating geological data across three distinct regions. This involves predicting the reserve volumes, estimating potential profits, and assessing operational risks.\n",
    "\n",
    "## Methodology:\n",
    "The research follows a structured approach, divided into key phases:\n",
    "\n",
    "### 1. Data Acquisition and Preparation:\n",
    "   - Procuring geological datasets from three designated regions.\n",
    "   - Conducting preliminary data checks for quality assurance and preparing the data for subsequent analysis.\n",
    "\n",
    "### 2. Predictive Modeling and Validation:\n",
    "   - Implementing a linear regression model to estimate oil reserves in new well locations.\n",
    "   - Delineating training and validation datasets (75:25 ratio) for model robustness.\n",
    "   - Generating predictions and benchmarking against known values to compute model accuracy (RMSE) and reserve estimates.\n",
    "\n",
    "### 3. Economic Feasibility Analysis:\n",
    "   - Storing economic factors as variables for streamlined calculations.\n",
    "   - Determining the break-even point for oil reserve volumes, ensuring the financial viability of new wells.\n",
    "   - Summarizing findings to strategize the profit calculation phase.\n",
    "\n",
    "### 4. Profit Maximization Algorithm:\n",
    "   - Developing an algorithm to calculate potential profits from the most promising oil wells, based on model forecasts.\n",
    "   - Prioritizing wells with the highest predicted yields for development.\n",
    "   - Recommending an optimal region for development, supported by profit estimates and justifications.\n",
    "\n",
    "### 5. Risk Assessment and Regional Selection:\n",
    "   - Applying bootstrapping with a 1000-sample framework to approximate profit distributions for each region.\n",
    "   - Calculating average profits, establishing a 95% confidence interval, and quantifying the risk of loss.\n",
    "   - Finalizing a region for oil well development with a justified recommendation based on comprehensive risk-profit analysis.\n",
    "\n",
    "## Data Overview:\n",
    "The study utilizes geological exploration data encapsulated in three CSV files. Each file represents a unique region and contains identifiers for individual oil wells, alongside three significant geological features and reserve volumes.\n",
    "\n",
    "## Operational Constraints:\n",
    "The study is predicated on the exclusivity of linear regression for predictive analysis, a fixed budget for developing 200 wells, and a minimum profit margin after risk assessment. Only regions with a loss potential under 2.5% qualify for consideration.\n",
    "\n",
    "## Confidentiality Clause:\n",
    "The datasets provided are synthetic and do not reveal any contractual or specific well characteristics.\n",
    "\n",
    "## Evaluation Metrics:\n",
    "The project's success will be gauged based on data preparation adequacy, adherence to outlined steps, consideration of business constraints, accuracy of the bootstrapping application, the rationale behind the selected region, code efficiency, and organizational structure."
   ]
  },
  {
   "cell_type": "markdown",
   "metadata": {},
   "source": [
    "# Importing Libraries "
   ]
  },
  {
   "cell_type": "code",
   "execution_count": 1,
   "metadata": {},
   "outputs": [],
   "source": [
    "import pandas as pd\n",
    "import numpy as np\n",
    "from scipy import stats\n",
    "import matplotlib.pyplot as plt\n",
    "import seaborn as sns\n",
    "from sklearn.model_selection import train_test_split\n",
    "from sklearn.metrics import accuracy_score\n",
    "from sklearn.linear_model import LinearRegression\n",
    "from sklearn.metrics import mean_squared_error"
   ]
  },
  {
   "cell_type": "markdown",
   "metadata": {},
   "source": [
    "## Loading DataFrames\n",
    "\n",
    "To work with data effectively in Python, especially within a Jupyter Notebook, we utilize the `pandas` library due to its comprehensive data manipulation capabilities."
   ]
  },
  {
   "cell_type": "code",
   "execution_count": 2,
   "metadata": {},
   "outputs": [],
   "source": [
    "df0 = pd.read_csv(\"/datasets/geo_data_0.csv\")\n",
    "df1 = pd.read_csv(\"/datasets/geo_data_1.csv\")\n",
    "df2 = pd.read_csv(\"/datasets/geo_data_2.csv\")"
   ]
  },
  {
   "cell_type": "markdown",
   "metadata": {},
   "source": [
    "## Inspecting the DataFrames\n",
    "\n",
    "Once the DataFrames are loaded, it's crucial to perform an initial inspection to ensure the data is loaded correctly and understand the structure and content of our datasets. This step involves checking the first few rows, understanding the data types, and getting a sense of the overall dataset size and shape."
   ]
  },
  {
   "cell_type": "code",
   "execution_count": 3,
   "metadata": {},
   "outputs": [
    {
     "data": {
      "text/html": [
       "<div>\n",
       "<style scoped>\n",
       "    .dataframe tbody tr th:only-of-type {\n",
       "        vertical-align: middle;\n",
       "    }\n",
       "\n",
       "    .dataframe tbody tr th {\n",
       "        vertical-align: top;\n",
       "    }\n",
       "\n",
       "    .dataframe thead th {\n",
       "        text-align: right;\n",
       "    }\n",
       "</style>\n",
       "<table border=\"1\" class=\"dataframe\">\n",
       "  <thead>\n",
       "    <tr style=\"text-align: right;\">\n",
       "      <th></th>\n",
       "      <th>id</th>\n",
       "      <th>f0</th>\n",
       "      <th>f1</th>\n",
       "      <th>f2</th>\n",
       "      <th>product</th>\n",
       "    </tr>\n",
       "  </thead>\n",
       "  <tbody>\n",
       "    <tr>\n",
       "      <th>0</th>\n",
       "      <td>txEyH</td>\n",
       "      <td>0.705745</td>\n",
       "      <td>-0.497823</td>\n",
       "      <td>1.221170</td>\n",
       "      <td>105.280062</td>\n",
       "    </tr>\n",
       "    <tr>\n",
       "      <th>1</th>\n",
       "      <td>2acmU</td>\n",
       "      <td>1.334711</td>\n",
       "      <td>-0.340164</td>\n",
       "      <td>4.365080</td>\n",
       "      <td>73.037750</td>\n",
       "    </tr>\n",
       "    <tr>\n",
       "      <th>2</th>\n",
       "      <td>409Wp</td>\n",
       "      <td>1.022732</td>\n",
       "      <td>0.151990</td>\n",
       "      <td>1.419926</td>\n",
       "      <td>85.265647</td>\n",
       "    </tr>\n",
       "    <tr>\n",
       "      <th>3</th>\n",
       "      <td>iJLyR</td>\n",
       "      <td>-0.032172</td>\n",
       "      <td>0.139033</td>\n",
       "      <td>2.978566</td>\n",
       "      <td>168.620776</td>\n",
       "    </tr>\n",
       "    <tr>\n",
       "      <th>4</th>\n",
       "      <td>Xdl7t</td>\n",
       "      <td>1.988431</td>\n",
       "      <td>0.155413</td>\n",
       "      <td>4.751769</td>\n",
       "      <td>154.036647</td>\n",
       "    </tr>\n",
       "  </tbody>\n",
       "</table>\n",
       "</div>"
      ],
      "text/plain": [
       "      id        f0        f1        f2     product\n",
       "0  txEyH  0.705745 -0.497823  1.221170  105.280062\n",
       "1  2acmU  1.334711 -0.340164  4.365080   73.037750\n",
       "2  409Wp  1.022732  0.151990  1.419926   85.265647\n",
       "3  iJLyR -0.032172  0.139033  2.978566  168.620776\n",
       "4  Xdl7t  1.988431  0.155413  4.751769  154.036647"
      ]
     },
     "execution_count": 3,
     "metadata": {},
     "output_type": "execute_result"
    }
   ],
   "source": [
    "df0.head()"
   ]
  },
  {
   "cell_type": "code",
   "execution_count": 4,
   "metadata": {},
   "outputs": [
    {
     "data": {
      "text/html": [
       "<div>\n",
       "<style scoped>\n",
       "    .dataframe tbody tr th:only-of-type {\n",
       "        vertical-align: middle;\n",
       "    }\n",
       "\n",
       "    .dataframe tbody tr th {\n",
       "        vertical-align: top;\n",
       "    }\n",
       "\n",
       "    .dataframe thead th {\n",
       "        text-align: right;\n",
       "    }\n",
       "</style>\n",
       "<table border=\"1\" class=\"dataframe\">\n",
       "  <thead>\n",
       "    <tr style=\"text-align: right;\">\n",
       "      <th></th>\n",
       "      <th>id</th>\n",
       "      <th>f0</th>\n",
       "      <th>f1</th>\n",
       "      <th>f2</th>\n",
       "      <th>product</th>\n",
       "    </tr>\n",
       "  </thead>\n",
       "  <tbody>\n",
       "    <tr>\n",
       "      <th>0</th>\n",
       "      <td>kBEdx</td>\n",
       "      <td>-15.001348</td>\n",
       "      <td>-8.276000</td>\n",
       "      <td>-0.005876</td>\n",
       "      <td>3.179103</td>\n",
       "    </tr>\n",
       "    <tr>\n",
       "      <th>1</th>\n",
       "      <td>62mP7</td>\n",
       "      <td>14.272088</td>\n",
       "      <td>-3.475083</td>\n",
       "      <td>0.999183</td>\n",
       "      <td>26.953261</td>\n",
       "    </tr>\n",
       "    <tr>\n",
       "      <th>2</th>\n",
       "      <td>vyE1P</td>\n",
       "      <td>6.263187</td>\n",
       "      <td>-5.948386</td>\n",
       "      <td>5.001160</td>\n",
       "      <td>134.766305</td>\n",
       "    </tr>\n",
       "    <tr>\n",
       "      <th>3</th>\n",
       "      <td>KcrkZ</td>\n",
       "      <td>-13.081196</td>\n",
       "      <td>-11.506057</td>\n",
       "      <td>4.999415</td>\n",
       "      <td>137.945408</td>\n",
       "    </tr>\n",
       "    <tr>\n",
       "      <th>4</th>\n",
       "      <td>AHL4O</td>\n",
       "      <td>12.702195</td>\n",
       "      <td>-8.147433</td>\n",
       "      <td>5.004363</td>\n",
       "      <td>134.766305</td>\n",
       "    </tr>\n",
       "  </tbody>\n",
       "</table>\n",
       "</div>"
      ],
      "text/plain": [
       "      id         f0         f1        f2     product\n",
       "0  kBEdx -15.001348  -8.276000 -0.005876    3.179103\n",
       "1  62mP7  14.272088  -3.475083  0.999183   26.953261\n",
       "2  vyE1P   6.263187  -5.948386  5.001160  134.766305\n",
       "3  KcrkZ -13.081196 -11.506057  4.999415  137.945408\n",
       "4  AHL4O  12.702195  -8.147433  5.004363  134.766305"
      ]
     },
     "execution_count": 4,
     "metadata": {},
     "output_type": "execute_result"
    }
   ],
   "source": [
    "df1.head()"
   ]
  },
  {
   "cell_type": "code",
   "execution_count": 5,
   "metadata": {},
   "outputs": [
    {
     "data": {
      "text/html": [
       "<div>\n",
       "<style scoped>\n",
       "    .dataframe tbody tr th:only-of-type {\n",
       "        vertical-align: middle;\n",
       "    }\n",
       "\n",
       "    .dataframe tbody tr th {\n",
       "        vertical-align: top;\n",
       "    }\n",
       "\n",
       "    .dataframe thead th {\n",
       "        text-align: right;\n",
       "    }\n",
       "</style>\n",
       "<table border=\"1\" class=\"dataframe\">\n",
       "  <thead>\n",
       "    <tr style=\"text-align: right;\">\n",
       "      <th></th>\n",
       "      <th>id</th>\n",
       "      <th>f0</th>\n",
       "      <th>f1</th>\n",
       "      <th>f2</th>\n",
       "      <th>product</th>\n",
       "    </tr>\n",
       "  </thead>\n",
       "  <tbody>\n",
       "    <tr>\n",
       "      <th>0</th>\n",
       "      <td>fwXo0</td>\n",
       "      <td>-1.146987</td>\n",
       "      <td>0.963328</td>\n",
       "      <td>-0.828965</td>\n",
       "      <td>27.758673</td>\n",
       "    </tr>\n",
       "    <tr>\n",
       "      <th>1</th>\n",
       "      <td>WJtFt</td>\n",
       "      <td>0.262778</td>\n",
       "      <td>0.269839</td>\n",
       "      <td>-2.530187</td>\n",
       "      <td>56.069697</td>\n",
       "    </tr>\n",
       "    <tr>\n",
       "      <th>2</th>\n",
       "      <td>ovLUW</td>\n",
       "      <td>0.194587</td>\n",
       "      <td>0.289035</td>\n",
       "      <td>-5.586433</td>\n",
       "      <td>62.871910</td>\n",
       "    </tr>\n",
       "    <tr>\n",
       "      <th>3</th>\n",
       "      <td>q6cA6</td>\n",
       "      <td>2.236060</td>\n",
       "      <td>-0.553760</td>\n",
       "      <td>0.930038</td>\n",
       "      <td>114.572842</td>\n",
       "    </tr>\n",
       "    <tr>\n",
       "      <th>4</th>\n",
       "      <td>WPMUX</td>\n",
       "      <td>-0.515993</td>\n",
       "      <td>1.716266</td>\n",
       "      <td>5.899011</td>\n",
       "      <td>149.600746</td>\n",
       "    </tr>\n",
       "  </tbody>\n",
       "</table>\n",
       "</div>"
      ],
      "text/plain": [
       "      id        f0        f1        f2     product\n",
       "0  fwXo0 -1.146987  0.963328 -0.828965   27.758673\n",
       "1  WJtFt  0.262778  0.269839 -2.530187   56.069697\n",
       "2  ovLUW  0.194587  0.289035 -5.586433   62.871910\n",
       "3  q6cA6  2.236060 -0.553760  0.930038  114.572842\n",
       "4  WPMUX -0.515993  1.716266  5.899011  149.600746"
      ]
     },
     "execution_count": 5,
     "metadata": {},
     "output_type": "execute_result"
    }
   ],
   "source": [
    "df2.head()"
   ]
  },
  {
   "cell_type": "markdown",
   "metadata": {},
   "source": [
    "## Reviewing Distributions and General Information\n",
    "\n",
    "After the initial data loading and inspection, the next vital step in our data analysis process involves a deeper exploration into the distributions of our datasets and their overarching characteristics. This exploration is crucial for uncovering insights, identifying potential outliers, and understanding the shape of our data, which can significantly influence subsequent analysis and modeling decisions."
   ]
  },
  {
   "cell_type": "code",
   "execution_count": 6,
   "metadata": {},
   "outputs": [
    {
     "name": "stdout",
     "output_type": "stream",
     "text": [
      "<class 'pandas.core.frame.DataFrame'>\n",
      "RangeIndex: 100000 entries, 0 to 99999\n",
      "Data columns (total 5 columns):\n",
      " #   Column   Non-Null Count   Dtype  \n",
      "---  ------   --------------   -----  \n",
      " 0   id       100000 non-null  object \n",
      " 1   f0       100000 non-null  float64\n",
      " 2   f1       100000 non-null  float64\n",
      " 3   f2       100000 non-null  float64\n",
      " 4   product  100000 non-null  float64\n",
      "dtypes: float64(4), object(1)\n",
      "memory usage: 3.8+ MB\n"
     ]
    }
   ],
   "source": [
    "df0.info()"
   ]
  },
  {
   "cell_type": "code",
   "execution_count": 7,
   "metadata": {},
   "outputs": [
    {
     "data": {
      "text/html": [
       "<div>\n",
       "<style scoped>\n",
       "    .dataframe tbody tr th:only-of-type {\n",
       "        vertical-align: middle;\n",
       "    }\n",
       "\n",
       "    .dataframe tbody tr th {\n",
       "        vertical-align: top;\n",
       "    }\n",
       "\n",
       "    .dataframe thead th {\n",
       "        text-align: right;\n",
       "    }\n",
       "</style>\n",
       "<table border=\"1\" class=\"dataframe\">\n",
       "  <thead>\n",
       "    <tr style=\"text-align: right;\">\n",
       "      <th></th>\n",
       "      <th>f0</th>\n",
       "      <th>f1</th>\n",
       "      <th>f2</th>\n",
       "      <th>product</th>\n",
       "    </tr>\n",
       "  </thead>\n",
       "  <tbody>\n",
       "    <tr>\n",
       "      <th>count</th>\n",
       "      <td>100000.000000</td>\n",
       "      <td>100000.000000</td>\n",
       "      <td>100000.000000</td>\n",
       "      <td>100000.000000</td>\n",
       "    </tr>\n",
       "    <tr>\n",
       "      <th>mean</th>\n",
       "      <td>0.500419</td>\n",
       "      <td>0.250143</td>\n",
       "      <td>2.502647</td>\n",
       "      <td>92.500000</td>\n",
       "    </tr>\n",
       "    <tr>\n",
       "      <th>std</th>\n",
       "      <td>0.871832</td>\n",
       "      <td>0.504433</td>\n",
       "      <td>3.248248</td>\n",
       "      <td>44.288691</td>\n",
       "    </tr>\n",
       "    <tr>\n",
       "      <th>min</th>\n",
       "      <td>-1.408605</td>\n",
       "      <td>-0.848218</td>\n",
       "      <td>-12.088328</td>\n",
       "      <td>0.000000</td>\n",
       "    </tr>\n",
       "    <tr>\n",
       "      <th>25%</th>\n",
       "      <td>-0.072580</td>\n",
       "      <td>-0.200881</td>\n",
       "      <td>0.287748</td>\n",
       "      <td>56.497507</td>\n",
       "    </tr>\n",
       "    <tr>\n",
       "      <th>50%</th>\n",
       "      <td>0.502360</td>\n",
       "      <td>0.250252</td>\n",
       "      <td>2.515969</td>\n",
       "      <td>91.849972</td>\n",
       "    </tr>\n",
       "    <tr>\n",
       "      <th>75%</th>\n",
       "      <td>1.073581</td>\n",
       "      <td>0.700646</td>\n",
       "      <td>4.715088</td>\n",
       "      <td>128.564089</td>\n",
       "    </tr>\n",
       "    <tr>\n",
       "      <th>max</th>\n",
       "      <td>2.362331</td>\n",
       "      <td>1.343769</td>\n",
       "      <td>16.003790</td>\n",
       "      <td>185.364347</td>\n",
       "    </tr>\n",
       "  </tbody>\n",
       "</table>\n",
       "</div>"
      ],
      "text/plain": [
       "                  f0             f1             f2        product\n",
       "count  100000.000000  100000.000000  100000.000000  100000.000000\n",
       "mean        0.500419       0.250143       2.502647      92.500000\n",
       "std         0.871832       0.504433       3.248248      44.288691\n",
       "min        -1.408605      -0.848218     -12.088328       0.000000\n",
       "25%        -0.072580      -0.200881       0.287748      56.497507\n",
       "50%         0.502360       0.250252       2.515969      91.849972\n",
       "75%         1.073581       0.700646       4.715088     128.564089\n",
       "max         2.362331       1.343769      16.003790     185.364347"
      ]
     },
     "execution_count": 7,
     "metadata": {},
     "output_type": "execute_result"
    }
   ],
   "source": [
    "df0.describe()"
   ]
  },
  {
   "cell_type": "code",
   "execution_count": 8,
   "metadata": {},
   "outputs": [
    {
     "name": "stdout",
     "output_type": "stream",
     "text": [
      "<class 'pandas.core.frame.DataFrame'>\n",
      "RangeIndex: 100000 entries, 0 to 99999\n",
      "Data columns (total 5 columns):\n",
      " #   Column   Non-Null Count   Dtype  \n",
      "---  ------   --------------   -----  \n",
      " 0   id       100000 non-null  object \n",
      " 1   f0       100000 non-null  float64\n",
      " 2   f1       100000 non-null  float64\n",
      " 3   f2       100000 non-null  float64\n",
      " 4   product  100000 non-null  float64\n",
      "dtypes: float64(4), object(1)\n",
      "memory usage: 3.8+ MB\n"
     ]
    }
   ],
   "source": [
    "df1.info()"
   ]
  },
  {
   "cell_type": "code",
   "execution_count": 9,
   "metadata": {},
   "outputs": [
    {
     "data": {
      "text/html": [
       "<div>\n",
       "<style scoped>\n",
       "    .dataframe tbody tr th:only-of-type {\n",
       "        vertical-align: middle;\n",
       "    }\n",
       "\n",
       "    .dataframe tbody tr th {\n",
       "        vertical-align: top;\n",
       "    }\n",
       "\n",
       "    .dataframe thead th {\n",
       "        text-align: right;\n",
       "    }\n",
       "</style>\n",
       "<table border=\"1\" class=\"dataframe\">\n",
       "  <thead>\n",
       "    <tr style=\"text-align: right;\">\n",
       "      <th></th>\n",
       "      <th>f0</th>\n",
       "      <th>f1</th>\n",
       "      <th>f2</th>\n",
       "      <th>product</th>\n",
       "    </tr>\n",
       "  </thead>\n",
       "  <tbody>\n",
       "    <tr>\n",
       "      <th>count</th>\n",
       "      <td>100000.000000</td>\n",
       "      <td>100000.000000</td>\n",
       "      <td>100000.000000</td>\n",
       "      <td>100000.000000</td>\n",
       "    </tr>\n",
       "    <tr>\n",
       "      <th>mean</th>\n",
       "      <td>1.141296</td>\n",
       "      <td>-4.796579</td>\n",
       "      <td>2.494541</td>\n",
       "      <td>68.825000</td>\n",
       "    </tr>\n",
       "    <tr>\n",
       "      <th>std</th>\n",
       "      <td>8.965932</td>\n",
       "      <td>5.119872</td>\n",
       "      <td>1.703572</td>\n",
       "      <td>45.944423</td>\n",
       "    </tr>\n",
       "    <tr>\n",
       "      <th>min</th>\n",
       "      <td>-31.609576</td>\n",
       "      <td>-26.358598</td>\n",
       "      <td>-0.018144</td>\n",
       "      <td>0.000000</td>\n",
       "    </tr>\n",
       "    <tr>\n",
       "      <th>25%</th>\n",
       "      <td>-6.298551</td>\n",
       "      <td>-8.267985</td>\n",
       "      <td>1.000021</td>\n",
       "      <td>26.953261</td>\n",
       "    </tr>\n",
       "    <tr>\n",
       "      <th>50%</th>\n",
       "      <td>1.153055</td>\n",
       "      <td>-4.813172</td>\n",
       "      <td>2.011479</td>\n",
       "      <td>57.085625</td>\n",
       "    </tr>\n",
       "    <tr>\n",
       "      <th>75%</th>\n",
       "      <td>8.621015</td>\n",
       "      <td>-1.332816</td>\n",
       "      <td>3.999904</td>\n",
       "      <td>107.813044</td>\n",
       "    </tr>\n",
       "    <tr>\n",
       "      <th>max</th>\n",
       "      <td>29.421755</td>\n",
       "      <td>18.734063</td>\n",
       "      <td>5.019721</td>\n",
       "      <td>137.945408</td>\n",
       "    </tr>\n",
       "  </tbody>\n",
       "</table>\n",
       "</div>"
      ],
      "text/plain": [
       "                  f0             f1             f2        product\n",
       "count  100000.000000  100000.000000  100000.000000  100000.000000\n",
       "mean        1.141296      -4.796579       2.494541      68.825000\n",
       "std         8.965932       5.119872       1.703572      45.944423\n",
       "min       -31.609576     -26.358598      -0.018144       0.000000\n",
       "25%        -6.298551      -8.267985       1.000021      26.953261\n",
       "50%         1.153055      -4.813172       2.011479      57.085625\n",
       "75%         8.621015      -1.332816       3.999904     107.813044\n",
       "max        29.421755      18.734063       5.019721     137.945408"
      ]
     },
     "execution_count": 9,
     "metadata": {},
     "output_type": "execute_result"
    }
   ],
   "source": [
    "df1.describe()"
   ]
  },
  {
   "cell_type": "code",
   "execution_count": 10,
   "metadata": {},
   "outputs": [
    {
     "name": "stdout",
     "output_type": "stream",
     "text": [
      "<class 'pandas.core.frame.DataFrame'>\n",
      "RangeIndex: 100000 entries, 0 to 99999\n",
      "Data columns (total 5 columns):\n",
      " #   Column   Non-Null Count   Dtype  \n",
      "---  ------   --------------   -----  \n",
      " 0   id       100000 non-null  object \n",
      " 1   f0       100000 non-null  float64\n",
      " 2   f1       100000 non-null  float64\n",
      " 3   f2       100000 non-null  float64\n",
      " 4   product  100000 non-null  float64\n",
      "dtypes: float64(4), object(1)\n",
      "memory usage: 3.8+ MB\n"
     ]
    }
   ],
   "source": [
    "df2.info()"
   ]
  },
  {
   "cell_type": "code",
   "execution_count": 11,
   "metadata": {},
   "outputs": [
    {
     "data": {
      "text/html": [
       "<div>\n",
       "<style scoped>\n",
       "    .dataframe tbody tr th:only-of-type {\n",
       "        vertical-align: middle;\n",
       "    }\n",
       "\n",
       "    .dataframe tbody tr th {\n",
       "        vertical-align: top;\n",
       "    }\n",
       "\n",
       "    .dataframe thead th {\n",
       "        text-align: right;\n",
       "    }\n",
       "</style>\n",
       "<table border=\"1\" class=\"dataframe\">\n",
       "  <thead>\n",
       "    <tr style=\"text-align: right;\">\n",
       "      <th></th>\n",
       "      <th>f0</th>\n",
       "      <th>f1</th>\n",
       "      <th>f2</th>\n",
       "      <th>product</th>\n",
       "    </tr>\n",
       "  </thead>\n",
       "  <tbody>\n",
       "    <tr>\n",
       "      <th>count</th>\n",
       "      <td>100000.000000</td>\n",
       "      <td>100000.000000</td>\n",
       "      <td>100000.000000</td>\n",
       "      <td>100000.000000</td>\n",
       "    </tr>\n",
       "    <tr>\n",
       "      <th>mean</th>\n",
       "      <td>0.002023</td>\n",
       "      <td>-0.002081</td>\n",
       "      <td>2.495128</td>\n",
       "      <td>95.000000</td>\n",
       "    </tr>\n",
       "    <tr>\n",
       "      <th>std</th>\n",
       "      <td>1.732045</td>\n",
       "      <td>1.730417</td>\n",
       "      <td>3.473445</td>\n",
       "      <td>44.749921</td>\n",
       "    </tr>\n",
       "    <tr>\n",
       "      <th>min</th>\n",
       "      <td>-8.760004</td>\n",
       "      <td>-7.084020</td>\n",
       "      <td>-11.970335</td>\n",
       "      <td>0.000000</td>\n",
       "    </tr>\n",
       "    <tr>\n",
       "      <th>25%</th>\n",
       "      <td>-1.162288</td>\n",
       "      <td>-1.174820</td>\n",
       "      <td>0.130359</td>\n",
       "      <td>59.450441</td>\n",
       "    </tr>\n",
       "    <tr>\n",
       "      <th>50%</th>\n",
       "      <td>0.009424</td>\n",
       "      <td>-0.009482</td>\n",
       "      <td>2.484236</td>\n",
       "      <td>94.925613</td>\n",
       "    </tr>\n",
       "    <tr>\n",
       "      <th>75%</th>\n",
       "      <td>1.158535</td>\n",
       "      <td>1.163678</td>\n",
       "      <td>4.858794</td>\n",
       "      <td>130.595027</td>\n",
       "    </tr>\n",
       "    <tr>\n",
       "      <th>max</th>\n",
       "      <td>7.238262</td>\n",
       "      <td>7.844801</td>\n",
       "      <td>16.739402</td>\n",
       "      <td>190.029838</td>\n",
       "    </tr>\n",
       "  </tbody>\n",
       "</table>\n",
       "</div>"
      ],
      "text/plain": [
       "                  f0             f1             f2        product\n",
       "count  100000.000000  100000.000000  100000.000000  100000.000000\n",
       "mean        0.002023      -0.002081       2.495128      95.000000\n",
       "std         1.732045       1.730417       3.473445      44.749921\n",
       "min        -8.760004      -7.084020     -11.970335       0.000000\n",
       "25%        -1.162288      -1.174820       0.130359      59.450441\n",
       "50%         0.009424      -0.009482       2.484236      94.925613\n",
       "75%         1.158535       1.163678       4.858794     130.595027\n",
       "max         7.238262       7.844801      16.739402     190.029838"
      ]
     },
     "execution_count": 11,
     "metadata": {},
     "output_type": "execute_result"
    }
   ],
   "source": [
    "df2.describe()"
   ]
  },
  {
   "cell_type": "markdown",
   "metadata": {},
   "source": [
    "## Checking for Missing Values\n",
    "\n",
    "Identifying and handling missing values is a critical step in the data preprocessing phase. Missing data can significantly impact the results of our analysis and the performance of machine learning models. Therefore, we meticulously check each DataFrame for any missing entries."
   ]
  },
  {
   "cell_type": "code",
   "execution_count": 12,
   "metadata": {},
   "outputs": [
    {
     "name": "stdout",
     "output_type": "stream",
     "text": [
      "id         0\n",
      "f0         0\n",
      "f1         0\n",
      "f2         0\n",
      "product    0\n",
      "dtype: int64\n",
      "\n",
      "id         0\n",
      "f0         0\n",
      "f1         0\n",
      "f2         0\n",
      "product    0\n",
      "dtype: int64\n",
      "\n",
      "id         0\n",
      "f0         0\n",
      "f1         0\n",
      "f2         0\n",
      "product    0\n",
      "dtype: int64\n"
     ]
    }
   ],
   "source": [
    "print(df0.isna().sum())\n",
    "print()\n",
    "print(df1.isna().sum())\n",
    "print()\n",
    "print(df2.isna().sum())"
   ]
  },
  {
   "cell_type": "markdown",
   "metadata": {},
   "source": [
    "## Removing Duplicates\n",
    "\n",
    "Duplicate entries in our datasets can skew the results of our analysis and lead to inaccurate models. Therefore, it's essential to identify and remove any duplicates to ensure the integrity of our data."
   ]
  },
  {
   "cell_type": "code",
   "execution_count": 13,
   "metadata": {},
   "outputs": [
    {
     "name": "stdout",
     "output_type": "stream",
     "text": [
      "0\n",
      "0\n",
      "0\n"
     ]
    }
   ],
   "source": [
    "print(df0.duplicated().sum())\n",
    "print(df1.duplicated().sum())\n",
    "print(df2.duplicated().sum())"
   ]
  },
  {
   "cell_type": "markdown",
   "metadata": {},
   "source": [
    "## Findings:\n",
    "- The three DataFrames consist of **100,000 rows and 5 columns** each.\n",
    "- The column formats are correct, and the column names are also appropriately formatted.\n",
    "- There are **no null values** in the DataFrames.\n",
    "- There are **no duplicate values**.\n",
    "- **We are now ready to train our regression model!**\n",
    "\n",
    "## Train and Test the Model for Each Region:\n",
    "We will now proceed to train a linear regression model for each region and analyze its performance."
   ]
  },
  {
   "cell_type": "markdown",
   "metadata": {},
   "source": [
    "## Training the Model for df0\n",
    "*We begin by training the model specifically for the DataFrame labeled `df0`.*\n",
    "## Setting the Target and Features\n",
    "*We now define the target variable and the features for our model.*"
   ]
  },
  {
   "cell_type": "code",
   "execution_count": 14,
   "metadata": {},
   "outputs": [],
   "source": [
    "target_0 = df0[\"product\"]\n",
    "features_0 =  df0.drop(columns=[\"product\", \"id\"])"
   ]
  },
  {
   "cell_type": "markdown",
   "metadata": {},
   "source": [
    "## Splitting Data into Training and Validation Sets\n",
    "*We divide the data into a training set and a validation set in a 75:25 ratio.*\n"
   ]
  },
  {
   "cell_type": "code",
   "execution_count": 15,
   "metadata": {},
   "outputs": [],
   "source": [
    "random_state = 200\n",
    "X_train_0, X_val_0, y_train_0, y_val_0 = train_test_split(features_0,\n",
    "                                                    target_0,\n",
    "                                                    test_size=0.25,\n",
    "                                                    random_state=random_state)"
   ]
  },
  {
   "cell_type": "markdown",
   "metadata": {},
   "source": [
    "## Training the Model\n",
    "\n",
    "*Now, we proceed to train the model.*"
   ]
  },
  {
   "cell_type": "code",
   "execution_count": 16,
   "metadata": {},
   "outputs": [
    {
     "data": {
      "text/plain": [
       "LinearRegression()"
      ]
     },
     "execution_count": 16,
     "metadata": {},
     "output_type": "execute_result"
    }
   ],
   "source": [
    "lr_0 = LinearRegression()\n",
    "lr_0.fit(X_train_0, y_train_0)"
   ]
  },
  {
   "cell_type": "markdown",
   "metadata": {},
   "source": [
    "## Making Predictions on the Validation Set\n",
    "\n",
    "*We now make predictions using the validation set.*"
   ]
  },
  {
   "cell_type": "code",
   "execution_count": 17,
   "metadata": {},
   "outputs": [],
   "source": [
    "lr_predictions_0 = lr_0.predict(X_val_0)"
   ]
  },
  {
   "cell_type": "markdown",
   "metadata": {},
   "source": [
    "## Displaying the Average Predicted Reserve Volume and the Model's RMSE\n",
    "\n",
    "*We display on screen the average volume of the predicted reserves and the Root Mean Square Error (RMSE) of the\n"
   ]
  },
  {
   "cell_type": "code",
   "execution_count": 18,
   "metadata": {},
   "outputs": [
    {
     "name": "stdout",
     "output_type": "stream",
     "text": [
      "Average volume of reserves: 92.50000000000001\n",
      "Linear Regression RMSE: 37.7213\n"
     ]
    }
   ],
   "source": [
    "print(f\"Average volume of reserves: {df0['product'].mean()}\")\n",
    "print(f\"Linear Regression RMSE: {round(mean_squared_error(y_val_0, lr_predictions_0, squared=False), 4)}\")"
   ]
  },
  {
   "cell_type": "markdown",
   "metadata": {},
   "source": [
    "## Plotting the Predictions and Model Performance\n",
    "\n",
    "*We create graphs to visualize the model's predictions and its performance.*\n"
   ]
  },
  {
   "cell_type": "code",
   "execution_count": 19,
   "metadata": {},
   "outputs": [
    {
     "data": {
      "image/png": "[encoded data removed]",
      "text/plain": [
       "<Figure size 648x432 with 1 Axes>"
      ]
     },
     "metadata": {
      "needs_background": "light"
     },
     "output_type": "display_data"
    }
   ],
   "source": [
    "plt.figure(figsize=(9,6))\n",
    "plt.scatter(x=lr_predictions_0, y = y_val_0)\n",
    "plt.plot([0, 200], [0, 200], color = \"red\", ls=\"--\")\n",
    "plt.show()"
   ]
  },
  {
   "cell_type": "markdown",
   "metadata": {},
   "source": [
    "\"According to the RMSE, our model is off by an average of 38.86 units, which is significant considering that the average value of the reserves is 85.44.\n",
    "\n",
    "On the other hand, the graph shows us a not very high correlation, as many of the values are far from the line.\""
   ]
  },
  {
   "cell_type": "markdown",
   "metadata": {},
   "source": [
    "## We train the model for f1"
   ]
  },
  {
   "cell_type": "markdown",
   "metadata": {},
   "source": [
    "## Setting the Target and Features\n",
    "\n",
    "*We establish the target variable and the features for our model.*"
   ]
  },
  {
   "cell_type": "code",
   "execution_count": 20,
   "metadata": {},
   "outputs": [],
   "source": [
    "target_1 = df1[\"product\"]\n",
    "features_1 =  df1.drop(columns=[\"product\", \"id\"])"
   ]
  },
  {
   "cell_type": "markdown",
   "metadata": {},
   "source": [
    "## Splitting Data into Training and Validation Sets\n",
    "\n",
    "*We divide the data into a training set and a validation set in a 75:25 ratio.*"
   ]
  },
  {
   "cell_type": "code",
   "execution_count": 21,
   "metadata": {},
   "outputs": [],
   "source": [
    "random_state = 200\n",
    "X_train_1, X_val_1, y_train_1, y_val_1 = train_test_split(features_1,\n",
    "                                                    target_1,\n",
    "                                                    test_size=0.25,\n",
    "                                                    random_state=random_state)"
   ]
  },
  {
   "cell_type": "markdown",
   "metadata": {},
   "source": [
    "## Training the Model\n",
    "\n",
    "*We proceed with training the model.*"
   ]
  },
  {
   "cell_type": "code",
   "execution_count": 22,
   "metadata": {},
   "outputs": [
    {
     "data": {
      "text/plain": [
       "LinearRegression()"
      ]
     },
     "execution_count": 22,
     "metadata": {},
     "output_type": "execute_result"
    }
   ],
   "source": [
    "lr_1 = LinearRegression()\n",
    "lr_1.fit(X_train_1, y_train_1)"
   ]
  },
  {
   "cell_type": "markdown",
   "metadata": {},
   "source": [
    "## Making Predictions on the Validation Set\n",
    "\n",
    "*We now make predictions using the validation set.*"
   ]
  },
  {
   "cell_type": "code",
   "execution_count": 23,
   "metadata": {},
   "outputs": [],
   "source": [
    "lr_predictions_1 = lr_1.predict(X_val_1)"
   ]
  },
  {
   "cell_type": "markdown",
   "metadata": {},
   "source": [
    "## Displaying the Average Predicted Reserve Volume and the Model's RMSE\n",
    "\n",
    "*We display on the screen the average volume of the predicted reserves and the Root Mean Square Error (RMSE) of the model.*"
   ]
  },
  {
   "cell_type": "code",
   "execution_count": 24,
   "metadata": {},
   "outputs": [
    {
     "name": "stdout",
     "output_type": "stream",
     "text": [
      "Average volume of reserves: 68.82500000000002\n",
      "Linear Regression RMSE: 0.8888\n"
     ]
    }
   ],
   "source": [
    "print(f\"Average volume of reserves: {df1['product'].mean()}\")\n",
    "print(f\"Linear Regression RMSE: {round(mean_squared_error(y_val_1, lr_predictions_1, squared=False), 4)}\")"
   ]
  },
  {
   "cell_type": "markdown",
   "metadata": {},
   "source": [
    "## Plotting the Predictions and Model Performance\n",
    "\n",
    "*We create graphs to visualize the model's predictions and its performance.*"
   ]
  },
  {
   "cell_type": "code",
   "execution_count": 25,
   "metadata": {},
   "outputs": [
    {
     "data": {
      "image/png": "[encoded data removed]",
      "text/plain": [
       "<Figure size 648x432 with 1 Axes>"
      ]
     },
     "metadata": {
      "needs_background": "light"
     },
     "output_type": "display_data"
    }
   ],
   "source": [
    "plt.figure(figsize=(9,6))\n",
    "plt.scatter(x=lr_predictions_1, y = y_val_1)\n",
    "plt.plot([0, 200], [0, 200], color = \"red\", ls=\"--\")\n",
    "plt.show()"
   ]
  },
  {
   "cell_type": "markdown",
   "metadata": {},
   "source": [
    "\"According to the RMSE, our model is off by an average of 0.88 units, a relatively low value that indicates a high level of performance in this case. On the other hand, the graph shows a fairly high correlation, as all the values are quite close to the line.\""
   ]
  },
  {
   "cell_type": "markdown",
   "metadata": {},
   "source": [
    "## Training the Model for f2\n",
    "\n",
    "*We proceed to train the model for the feature or dataset labeled `f2`.*"
   ]
  },
  {
   "cell_type": "code",
   "execution_count": 26,
   "metadata": {},
   "outputs": [],
   "source": [
    "target_2 = df2[\"product\"]\n",
    "features_2 =  df2.drop(columns=[\"product\", \"id\"])"
   ]
  },
  {
   "cell_type": "markdown",
   "metadata": {},
   "source": [
    "## Splitting Data into Training and Validation Sets\n",
    "\n",
    "*We divide the data into a training set and a validation set in a 75:25 ratio.*"
   ]
  },
  {
   "cell_type": "markdown",
   "metadata": {},
   "source": []
  },
  {
   "cell_type": "code",
   "execution_count": 27,
   "metadata": {},
   "outputs": [],
   "source": [
    "random_state = 200\n",
    "X_train_2, X_val_2, y_train_2, y_val_2 = train_test_split(features_2,\n",
    "                                                    target_2,\n",
    "                                                    test_size=0.25,\n",
    "                                                    random_state=random_state)"
   ]
  },
  {
   "cell_type": "markdown",
   "metadata": {},
   "source": [
    "## Training the Model\n",
    "\n",
    "*Now, we proceed with training the model.*\n"
   ]
  },
  {
   "cell_type": "code",
   "execution_count": 28,
   "metadata": {},
   "outputs": [
    {
     "data": {
      "text/plain": [
       "LinearRegression()"
      ]
     },
     "execution_count": 28,
     "metadata": {},
     "output_type": "execute_result"
    }
   ],
   "source": [
    "lr_2 = LinearRegression()\n",
    "lr_2.fit(X_train_2, y_train_2)"
   ]
  },
  {
   "cell_type": "markdown",
   "metadata": {},
   "source": [
    "## Making Predictions on the Validation Set\n",
    "\n",
    "*We now make predictions using the validation set.*"
   ]
  },
  {
   "cell_type": "code",
   "execution_count": 29,
   "metadata": {},
   "outputs": [],
   "source": [
    "lr_predictions_2 = lr_2.predict(X_val_2)"
   ]
  },
  {
   "cell_type": "code",
   "execution_count": 30,
   "metadata": {},
   "outputs": [
    {
     "name": "stdout",
     "output_type": "stream",
     "text": [
      "Average volume of reserves: 95.00000000000004\n",
      "Linear Regression RMSE: 40.1276\n"
     ]
    }
   ],
   "source": [
    "print(f\"Average volume of reserves: {df2['product'].mean()}\")\n",
    "print(f\"Linear Regression RMSE: {round(mean_squared_error(y_val_2, lr_predictions_2, squared=False), 4)}\")"
   ]
  },
  {
   "cell_type": "markdown",
   "metadata": {},
   "source": [
    "## Plotting the Predictions and Model Performance\n",
    "\n",
    "*We create graphs to visualize the model's predictions and its performance.*"
   ]
  },
  {
   "cell_type": "code",
   "execution_count": 31,
   "metadata": {},
   "outputs": [
    {
     "data": {
      "image/png": "[encoded data removed]",
      "text/plain": [
       "<Figure size 648x432 with 1 Axes>"
      ]
     },
     "metadata": {
      "needs_background": "light"
     },
     "output_type": "display_data"
    }
   ],
   "source": [
    "plt.figure(figsize=(9,6))\n",
    "plt.scatter(x=lr_predictions_2, y = y_val_2)\n",
    "plt.plot([0, 200], [0, 200], color = \"red\", ls=\"--\")\n",
    "plt.show()"
   ]
  },
  {
   "cell_type": "markdown",
   "metadata": {},
   "source": [
    "\"According to the RMSE, our model is off by an average of 40.12 units, which is significant considering that the average value of the reserves is 95.00.\n",
    "\n",
    "Again, the graph shows us a not very high correlation, as many of the values are far from the line.\n",
    "\n",
    "Prepare for the Profit Calculation\n",
    "Store all key values for the calculations in separate variables.\""
   ]
  },
  {
   "cell_type": "markdown",
   "metadata": {},
   "source": [
    "## Key Financial Parameters for Well Development\n",
    "\n",
    "- **Development Cost for 200 Wells**: To develop 200 wells, a budget of 1,000,000 USD is required.\n",
    "- **Revenue per Barrel**: Each barrel yields a revenue of 4.5 USD.\n",
    "- **Revenue per Product Unit**: The revenue from one unit of product is 4,500 USD.\n",
    "- **Risk Assessment**: Only regions with a probability of loss less than 2.5% should be retained.\n",
    "- **Selection Criteria**: Choose the region with the highest profit."
   ]
  },
  {
   "cell_type": "markdown",
   "metadata": {},
   "source": [
    "## Utilizing Bootstrapping to Simulate Profits\n",
    "\n",
    "*We employ bootstrapping to simulate the benefits.*\n"
   ]
  },
  {
   "cell_type": "code",
   "execution_count": 32,
   "metadata": {},
   "outputs": [],
   "source": [
    "n_iters = 1000\n",
    "benefits_0 = []\n",
    "\n",
    "for n in range(n_iters):\n",
    "    bootstrap_sample_0 = df0.sample(n=500, replace=True)\n",
    "    top_200_0 = bootstrap_sample_0.sort_values(by=\"product\", ascending = False).reset_index().head(200)\n",
    "\n",
    "    benefits_0.append((top_200_0[\"product\"] * 4500).sum())"
   ]
  },
  {
   "cell_type": "markdown",
   "metadata": {},
   "source": [
    "## Plotting the Benefits\n",
    "\n",
    "*We graph the benefits to visually analyze the results.*"
   ]
  },
  {
   "cell_type": "code",
   "execution_count": 33,
   "metadata": {},
   "outputs": [
    {
     "data": {
      "image/png": "[encoded data removed]",
      "text/plain": [
       "<Figure size 720x288 with 1 Axes>"
      ]
     },
     "metadata": {
      "needs_background": "light"
     },
     "output_type": "display_data"
    }
   ],
   "source": [
    "plt.figure(figsize=(10,4))\n",
    "plt.hist(x=benefits_0, bins=20)\n",
    "plt.show()"
   ]
  },
  {
   "cell_type": "markdown",
   "metadata": {},
   "source": [
    "## Percentage of Times Benefits Do Not Exceed Costs\n",
    "\n",
    "*We calculate the percentage of instances where the benefits do not surpass the costs.*"
   ]
  },
  {
   "cell_type": "code",
   "execution_count": 34,
   "metadata": {},
   "outputs": [
    {
     "data": {
      "text/plain": [
       "0.0"
      ]
     },
     "execution_count": 34,
     "metadata": {},
     "output_type": "execute_result"
    }
   ],
   "source": [
    "(np.array(benefits_0) < 100000000).mean()"
   ]
  },
  {
   "cell_type": "markdown",
   "metadata": {},
   "source": [
    "## Value to Compare Across Each Region for Selecting the Best Region\n",
    "\n",
    "*We determine the value to be compared across each region in order to select the most optimal region.*"
   ]
  },
  {
   "cell_type": "code",
   "execution_count": 35,
   "metadata": {},
   "outputs": [
    {
     "data": {
      "text/plain": [
       "123885758.07971965"
      ]
     },
     "execution_count": 35,
     "metadata": {},
     "output_type": "execute_result"
    }
   ],
   "source": [
    "np.array(benefits_0).mean()"
   ]
  },
  {
   "cell_type": "markdown",
   "metadata": {},
   "source": [
    "## Average Cost per Well\n",
    "\n",
    "*We calculate the average cost per well.*\n"
   ]
  },
  {
   "cell_type": "code",
   "execution_count": 36,
   "metadata": {},
   "outputs": [
    {
     "data": {
      "text/plain": [
       "500000.0"
      ]
     },
     "execution_count": 36,
     "metadata": {},
     "output_type": "execute_result"
    }
   ],
   "source": [
    "100000000 / 200"
   ]
  },
  {
   "cell_type": "markdown",
   "metadata": {},
   "source": [
    "## Number of Units Required per Well for Positive Profit\n",
    "\n",
    "*We calculate the number of units required per well to generate positive profits.*"
   ]
  },
  {
   "cell_type": "code",
   "execution_count": 37,
   "metadata": {},
   "outputs": [
    {
     "data": {
      "text/plain": [
       "111.11111111111111"
      ]
     },
     "execution_count": 37,
     "metadata": {},
     "output_type": "execute_result"
    }
   ],
   "source": [
    "500000.0 / 4500"
   ]
  },
  {
   "cell_type": "markdown",
   "metadata": {},
   "source": [
    "## Average Units per Well in Region 0\n",
    "\n",
    "*We calculate the average number of units per well in Region 0.*"
   ]
  },
  {
   "cell_type": "code",
   "execution_count": 38,
   "metadata": {},
   "outputs": [
    {
     "data": {
      "text/plain": [
       "92.50000000000001"
      ]
     },
     "execution_count": 38,
     "metadata": {},
     "output_type": "execute_result"
    }
   ],
   "source": [
    "df0[\"product\"].mean()"
   ]
  },
  {
   "cell_type": "markdown",
   "metadata": {},
   "source": [
    "## Utilizing Bootstrapping to Simulate Benefits\n",
    "\n",
    "*We employ bootstrapping to simulate the benefits.*"
   ]
  },
  {
   "cell_type": "code",
   "execution_count": 39,
   "metadata": {},
   "outputs": [],
   "source": [
    "n_iters = 1000\n",
    "benefits_1 = []\n",
    "\n",
    "for n in range(n_iters):\n",
    "    bootstrap_sample_1 = df1.sample(n=500, replace=True)\n",
    "    top_200_1 = bootstrap_sample_1.sort_values(by=\"product\", ascending = False).reset_index().head(200)\n",
    "\n",
    "    benefits_1.append((top_200_1[\"product\"] * 4500).sum())"
   ]
  },
  {
   "cell_type": "markdown",
   "metadata": {},
   "source": [
    "## Plotting the Benefits\n",
    "\n",
    "*We graph the benefits to visually analyze the outcomes.*"
   ]
  },
  {
   "cell_type": "code",
   "execution_count": 40,
   "metadata": {},
   "outputs": [
    {
     "data": {
      "image/png": "[encoded data removed]",
      "text/plain": [
       "<Figure size 720x288 with 1 Axes>"
      ]
     },
     "metadata": {
      "needs_background": "light"
     },
     "output_type": "display_data"
    }
   ],
   "source": [
    "plt.figure(figsize=(10,4))\n",
    "plt.hist(x=benefits_1, bins=20)\n",
    "plt.show()\n"
   ]
  },
  {
   "cell_type": "markdown",
   "metadata": {},
   "source": [
    "## Percentage of Times Benefits Do Not Exceed Costs\n",
    "\n",
    "*We calculate the percentage of instances where the benefits do not surpass the costs.*"
   ]
  },
  {
   "cell_type": "code",
   "execution_count": 41,
   "metadata": {},
   "outputs": [
    {
     "data": {
      "text/plain": [
       "0.016"
      ]
     },
     "execution_count": 41,
     "metadata": {},
     "output_type": "execute_result"
    }
   ],
   "source": [
    "(np.array(benefits_1) < 100000000).mean()"
   ]
  },
  {
   "cell_type": "markdown",
   "metadata": {},
   "source": [
    "## Value to Compare Across Each Region for Selecting the Best Region\n",
    "\n",
    "*We determine the value to be compared across each region in order to select the most optimal region.*"
   ]
  },
  {
   "cell_type": "code",
   "execution_count": 42,
   "metadata": {},
   "outputs": [
    {
     "data": {
      "text/plain": [
       "104530777.38346589"
      ]
     },
     "execution_count": 42,
     "metadata": {},
     "output_type": "execute_result"
    }
   ],
   "source": [
    "np.array(benefits_1).mean()"
   ]
  },
  {
   "cell_type": "markdown",
   "metadata": {},
   "source": [
    "## Average Units per Well in Region 0\n",
    "\n",
    "*We calculate the average number of units per well in Region 0.*"
   ]
  },
  {
   "cell_type": "code",
   "execution_count": 43,
   "metadata": {},
   "outputs": [
    {
     "data": {
      "text/plain": [
       "68.82500000000002"
      ]
     },
     "execution_count": 43,
     "metadata": {},
     "output_type": "execute_result"
    }
   ],
   "source": [
    "df1[\"product\"].mean()"
   ]
  },
  {
   "cell_type": "markdown",
   "metadata": {},
   "source": [
    "## Utilizing Bootstrapping to Simulate Benefits\n",
    "\n",
    "*We employ bootstrapping to simulate the benefits.*"
   ]
  },
  {
   "cell_type": "code",
   "execution_count": 44,
   "metadata": {},
   "outputs": [],
   "source": [
    "n_iters = 1000\n",
    "benefits_2 = []\n",
    "\n",
    "for n in range(n_iters):\n",
    "    bootstrap_sample_2 = df2.sample(n=500, replace=True)\n",
    "    top_200_2 = bootstrap_sample_2.sort_values(by=\"product\", ascending = False).reset_index().head(200)\n",
    "\n",
    "    benefits_2.append((top_200_2[\"product\"] * 4500).sum())"
   ]
  },
  {
   "cell_type": "markdown",
   "metadata": {},
   "source": [
    "## Plotting the Benefits\n",
    "\n",
    "*We create graphs to visualize the benefits.*"
   ]
  },
  {
   "cell_type": "code",
   "execution_count": 45,
   "metadata": {},
   "outputs": [
    {
     "data": {
      "image/png": "[encoded data removed]",
      "text/plain": [
       "<Figure size 720x288 with 1 Axes>"
      ]
     },
     "metadata": {
      "needs_background": "light"
     },
     "output_type": "display_data"
    }
   ],
   "source": [
    "plt.figure(figsize=(10,4))\n",
    "plt.hist(x=benefits_2, bins=20)\n",
    "plt.show()"
   ]
  },
  {
   "cell_type": "markdown",
   "metadata": {},
   "source": [
    "## Percentage of Times Benefits Do Not Exceed Costs\n",
    "\n",
    "*We calculate the percentage of instances where the benefits do not surpass the costs.*"
   ]
  },
  {
   "cell_type": "code",
   "execution_count": 46,
   "metadata": {},
   "outputs": [
    {
     "data": {
      "text/plain": [
       "0.0"
      ]
     },
     "execution_count": 46,
     "metadata": {},
     "output_type": "execute_result"
    }
   ],
   "source": [
    "(np.array(benefits_2) < 100000000).mean()"
   ]
  },
  {
   "cell_type": "markdown",
   "metadata": {},
   "source": [
    "## Value to Compare Across Each Region for Selecting the Best Region\n",
    "\n",
    "*We determine the value to be compared across each region in order to select the most optimal region.*"
   ]
  },
  {
   "cell_type": "code",
   "execution_count": 47,
   "metadata": {},
   "outputs": [
    {
     "data": {
      "text/plain": [
       "126290448.92641766"
      ]
     },
     "execution_count": 47,
     "metadata": {},
     "output_type": "execute_result"
    }
   ],
   "source": [
    "np.array(benefits_2).mean()"
   ]
  },
  {
   "cell_type": "markdown",
   "metadata": {},
   "source": [
    "## Average Units per Well in Region 0\n",
    "\n",
    "*We calculate the average number of units per well in Region 0.*"
   ]
  },
  {
   "cell_type": "code",
   "execution_count": 48,
   "metadata": {},
   "outputs": [
    {
     "data": {
      "text/plain": [
       "95.00000000000004"
      ]
     },
     "execution_count": 48,
     "metadata": {},
     "output_type": "execute_result"
    }
   ],
   "source": [
    "df2[\"product\"].mean()"
   ]
  },
  {
   "cell_type": "markdown",
   "metadata": {},
   "source": [
    "## Analysis of Average Cost and Profits Across Regions\n",
    "\n",
    "- **Average Cost Per Well**: The average cost per well is 500,000.\n",
    "- **Profit Calculation**: When calculating profits, only in the second region (df1) do the benefits fail to exceed the costs 1.5% of the time. In the other two regions, there were no losses.\n",
    "- **Regions with the Highest Average Profits**: The regions with the highest average profits are Region df0 (123,954,034) and Region df2 (126,435,483)."
   ]
  },
  {
   "cell_type": "markdown",
   "metadata": {},
   "source": [
    "## Writing a Function to Calculate Profit from a Set of Selected Oil Wells and Model Predictions\n",
    "\n",
    "*We will write a function to calculate the profit from a selected set of oil wells and to model the predictions.*"
   ]
  },
  {
   "cell_type": "code",
   "execution_count": 49,
   "metadata": {},
   "outputs": [],
   "source": [
    "def calculate_profit(df, n_iters=1000, sample_size=500, selling_price=4500):\n",
    "    benefits = []\n",
    "\n",
    "    for n in range(n_iters):\n",
    "        bootstrap_sample = df.sample(n=sample_size, replace=True)\n",
    "        top_200 = bootstrap_sample.sort_values(by=\"predictions\", ascending=False).reset_index().head(200)\n",
    "\n",
    "        total_profit = (top_200[\"predictions\"] * selling_price).sum()\n",
    "        benefits.append(total_profit)\n",
    "\n",
    "    return benefits"
   ]
  },
  {
   "cell_type": "markdown",
   "metadata": {},
   "source": [
    "## Selecting Wells with the Highest Prediction Values\n",
    "\n",
    "*Choose the wells with the highest prediction values.*\n",
    "\n",
    "## Applying the Function to Our Linear Regression Model Predictions\n",
    "\n",
    "*We use the function on the predictions from our Linear Regression model and save the results.*"
   ]
  },
  {
   "cell_type": "code",
   "execution_count": 50,
   "metadata": {},
   "outputs": [],
   "source": [
    "predictions_df0 = pd.DataFrame({\"predictions\": lr_predictions_0})\n",
    "predictions_df1 = pd.DataFrame({\"predictions\": lr_predictions_1})\n",
    "predictions_df2 = pd.DataFrame({\"predictions\": lr_predictions_0})\n",
    "\n",
    "benefits_df0 = calculate_profit(predictions_df0)\n",
    "benefits_df1 = calculate_profit(predictions_df1)\n",
    "benefits_df2 = calculate_profit(predictions_df2)"
   ]
  },
  {
   "cell_type": "markdown",
   "metadata": {},
   "source": [
    "## Plotting the Benefits of df0 Based on Predictions\n",
    "\n",
    "*We create graphs to visualize the benefits of df0 derived from the predictions.*"
   ]
  },
  {
   "cell_type": "code",
   "execution_count": 51,
   "metadata": {},
   "outputs": [
    {
     "data": {
      "image/png": "[encoded data removed]",
      "text/plain": [
       "<Figure size 720x288 with 1 Axes>"
      ]
     },
     "metadata": {
      "needs_background": "light"
     },
     "output_type": "display_data"
    }
   ],
   "source": [
    "plt.figure(figsize=(10,4))\n",
    "plt.hist(x=benefits_df0, bins=20)\n",
    "plt.show()"
   ]
  },
  {
   "cell_type": "markdown",
   "metadata": {},
   "source": [
    "## Average Profit of df0 Based on Predictions\n",
    "\n",
    "*We calculate the average profit for df0 derived from the model's predictions.*"
   ]
  },
  {
   "cell_type": "code",
   "execution_count": 52,
   "metadata": {},
   "outputs": [
    {
     "data": {
      "text/plain": [
       "103437355.1409723"
      ]
     },
     "execution_count": 52,
     "metadata": {},
     "output_type": "execute_result"
    }
   ],
   "source": [
    "np.array(benefits_df0).mean()"
   ]
  },
  {
   "cell_type": "markdown",
   "metadata": {},
   "source": [
    "## Percentage of Times Benefits Do Not Exceed Costs in df0\n",
    "\n",
    "*We calculate the percentage of instances in df0 where the benefits do not surpass the costs.*"
   ]
  },
  {
   "cell_type": "code",
   "execution_count": 53,
   "metadata": {},
   "outputs": [
    {
     "data": {
      "text/plain": [
       "0.001"
      ]
     },
     "execution_count": 53,
     "metadata": {},
     "output_type": "execute_result"
    }
   ],
   "source": [
    "(np.array(benefits_df0) < 100000000).mean()"
   ]
  },
  {
   "cell_type": "markdown",
   "metadata": {},
   "source": [
    "## Plotting the Benefits of df1 Based on Predictions\n",
    "\n",
    "*We create graphs to visualize the benefits of df1 derived from the predictions.*"
   ]
  },
  {
   "cell_type": "code",
   "execution_count": 54,
   "metadata": {},
   "outputs": [
    {
     "data": {
      "image/png": "[encoded data removed]",
      "text/plain": [
       "<Figure size 720x288 with 1 Axes>"
      ]
     },
     "metadata": {
      "needs_background": "light"
     },
     "output_type": "display_data"
    }
   ],
   "source": [
    "plt.figure(figsize=(10,4))\n",
    "plt.hist(x=benefits_df1, bins=20)\n",
    "plt.show()"
   ]
  },
  {
   "cell_type": "markdown",
   "metadata": {},
   "source": [
    "## Average Profit of df1 Based on Predictions\n",
    "\n",
    "*We calculate the average profit for df1 derived from the model's predictions.*"
   ]
  },
  {
   "cell_type": "code",
   "execution_count": 55,
   "metadata": {},
   "outputs": [
    {
     "data": {
      "text/plain": [
       "104621412.45545767"
      ]
     },
     "execution_count": 55,
     "metadata": {},
     "output_type": "execute_result"
    }
   ],
   "source": [
    "np.array(benefits_df1).mean()"
   ]
  },
  {
   "cell_type": "markdown",
   "metadata": {},
   "source": [
    "## Percentage of Times Benefits Do Not Exceed Costs in df1\n",
    "\n",
    "*We calculate the percentage of instances in df1 where the benefits do not surpass the costs.*"
   ]
  },
  {
   "cell_type": "code",
   "execution_count": 56,
   "metadata": {},
   "outputs": [
    {
     "data": {
      "text/plain": [
       "0.011"
      ]
     },
     "execution_count": 56,
     "metadata": {},
     "output_type": "execute_result"
    }
   ],
   "source": [
    "(np.array(benefits_df1) < 100000000).mean()"
   ]
  },
  {
   "cell_type": "markdown",
   "metadata": {},
   "source": [
    "## Plotting the Benefits of df2 Based on Predictions\n",
    "\n",
    "*We graph the benefits of df2 derived from the predictions.*"
   ]
  },
  {
   "cell_type": "code",
   "execution_count": 57,
   "metadata": {},
   "outputs": [
    {
     "data": {
      "image/png": "[encoded data removed]",
      "text/plain": [
       "<Figure size 720x288 with 1 Axes>"
      ]
     },
     "metadata": {
      "needs_background": "light"
     },
     "output_type": "display_data"
    }
   ],
   "source": [
    "plt.figure(figsize=(10,4))\n",
    "plt.hist(x=benefits_df2, bins=20)\n",
    "plt.show()"
   ]
  },
  {
   "cell_type": "markdown",
   "metadata": {},
   "source": [
    "## Average Profit of df2 Based on Predictions\n",
    "\n",
    "*We calculate the average profit for df2 derived from the model's predictions.*"
   ]
  },
  {
   "cell_type": "code",
   "execution_count": 58,
   "metadata": {},
   "outputs": [
    {
     "data": {
      "text/plain": [
       "103475964.68017109"
      ]
     },
     "execution_count": 58,
     "metadata": {},
     "output_type": "execute_result"
    }
   ],
   "source": [
    "np.array(benefits_df2).mean()"
   ]
  },
  {
   "cell_type": "markdown",
   "metadata": {},
   "source": [
    "## Percentage of Times Benefits Do Not Exceed Costs\n",
    "\n",
    "*We calculate the percentage of instances where the benefits do not surpass the costs.*"
   ]
  },
  {
   "cell_type": "code",
   "execution_count": 59,
   "metadata": {},
   "outputs": [
    {
     "data": {
      "text/plain": [
       "0.0"
      ]
     },
     "execution_count": 59,
     "metadata": {},
     "output_type": "execute_result"
    }
   ],
   "source": [
    "(np.array(benefits_df2) < 100000000).mean()"
   ]
  },
  {
   "cell_type": "markdown",
   "metadata": {},
   "source": [
    "## Analysis of Financial Viability Across Regions\n",
    "\n",
    "In this analysis, we've evaluated the financial outcomes of operations across different regions based on model predictions. Our findings are crucial for making informed decisions about potential investments.\n",
    "\n",
    "### Key Findings:\n",
    "\n",
    "- Across all regions, the **percentage of instances where benefits do not exceed $100,000,000 is less than 2.5%**. This indicates a generally low risk of significant financial loss in all regions considered.\n",
    "  \n",
    "- The **region df1** exhibited the **highest percentage of loss at 1.3%**, marking it as slightly riskier compared to the others. Despite this, it's important to note that the risk remains below the 2.5% threshold, which is typically considered acceptable.\n",
    "  \n",
    "- According to the predictions, **region df1 also presents the highest average profit**, valued at **$104,489,652**. This suggests that while df1 carries a marginally higher risk of loss, it also offers the potential for higher returns.\n",
    "  \n",
    "- It's worth mentioning that the average profit in **region df1** is not significantly different from the predictions for the other two regions, suggesting that all regions have comparable financial attractiveness with slight variations in risk and return.\n",
    "\n",
    "### Conclusion:\n",
    "\n",
    "These findings underscore the importance of balancing risk and return when selecting a region for investment. Region df1, despite its marginally higher risk, presents an opportunity for higher average profits, making it an attractive option for those willing to accept a slight increase in risk for potentially greater rewards."
   ]
  },
  {
   "cell_type": "markdown",
   "metadata": {},
   "source": [
    "## Summarizing the Target Volume of Reserves Based on Predictions\n",
    "\n",
    "In this section, we consolidate our findings to articulate the target volumes of reserves as forecasted by our predictive models. This synthesis is crucial for aligning our exploration and development strategies with the most promising prospects.\n",
    "\n",
    "## Target Summary for df0\n",
    "\n",
    "*We present a summary of the target reserve volume for DataFrame df0 based on the model's predictions.*"
   ]
  },
  {
   "cell_type": "code",
   "execution_count": 60,
   "metadata": {},
   "outputs": [
    {
     "data": {
      "text/html": [
       "<div>\n",
       "<style scoped>\n",
       "    .dataframe tbody tr th:only-of-type {\n",
       "        vertical-align: middle;\n",
       "    }\n",
       "\n",
       "    .dataframe tbody tr th {\n",
       "        vertical-align: top;\n",
       "    }\n",
       "\n",
       "    .dataframe thead th {\n",
       "        text-align: right;\n",
       "    }\n",
       "</style>\n",
       "<table border=\"1\" class=\"dataframe\">\n",
       "  <thead>\n",
       "    <tr style=\"text-align: right;\">\n",
       "      <th></th>\n",
       "      <th>predictions</th>\n",
       "    </tr>\n",
       "  </thead>\n",
       "  <tbody>\n",
       "    <tr>\n",
       "      <th>12345</th>\n",
       "      <td>185.531997</td>\n",
       "    </tr>\n",
       "    <tr>\n",
       "      <th>9809</th>\n",
       "      <td>175.994362</td>\n",
       "    </tr>\n",
       "    <tr>\n",
       "      <th>12309</th>\n",
       "      <td>175.399113</td>\n",
       "    </tr>\n",
       "    <tr>\n",
       "      <th>8921</th>\n",
       "      <td>172.961672</td>\n",
       "    </tr>\n",
       "    <tr>\n",
       "      <th>609</th>\n",
       "      <td>172.941723</td>\n",
       "    </tr>\n",
       "    <tr>\n",
       "      <th>...</th>\n",
       "      <td>...</td>\n",
       "    </tr>\n",
       "    <tr>\n",
       "      <th>10199</th>\n",
       "      <td>147.579719</td>\n",
       "    </tr>\n",
       "    <tr>\n",
       "      <th>2657</th>\n",
       "      <td>147.565992</td>\n",
       "    </tr>\n",
       "    <tr>\n",
       "      <th>5283</th>\n",
       "      <td>147.543117</td>\n",
       "    </tr>\n",
       "    <tr>\n",
       "      <th>5861</th>\n",
       "      <td>147.530884</td>\n",
       "    </tr>\n",
       "    <tr>\n",
       "      <th>8414</th>\n",
       "      <td>147.510880</td>\n",
       "    </tr>\n",
       "  </tbody>\n",
       "</table>\n",
       "<p>200 rows × 1 columns</p>\n",
       "</div>"
      ],
      "text/plain": [
       "       predictions\n",
       "12345   185.531997\n",
       "9809    175.994362\n",
       "12309   175.399113\n",
       "8921    172.961672\n",
       "609     172.941723\n",
       "...            ...\n",
       "10199   147.579719\n",
       "2657    147.565992\n",
       "5283    147.543117\n",
       "5861    147.530884\n",
       "8414    147.510880\n",
       "\n",
       "[200 rows x 1 columns]"
      ]
     },
     "execution_count": 60,
     "metadata": {},
     "output_type": "execute_result"
    }
   ],
   "source": [
    "predictions_df0.sort_values(\"predictions\", ascending=False).head(200)"
   ]
  },
  {
   "cell_type": "markdown",
   "metadata": {},
   "source": [
    "## Target Summary for df1\n",
    "\n",
    "*We provide a summary of the target reserve volume for DataFrame df1,"
   ]
  },
  {
   "cell_type": "code",
   "execution_count": 61,
   "metadata": {},
   "outputs": [
    {
     "data": {
      "text/html": [
       "<div>\n",
       "<style scoped>\n",
       "    .dataframe tbody tr th:only-of-type {\n",
       "        vertical-align: middle;\n",
       "    }\n",
       "\n",
       "    .dataframe tbody tr th {\n",
       "        vertical-align: top;\n",
       "    }\n",
       "\n",
       "    .dataframe thead th {\n",
       "        text-align: right;\n",
       "    }\n",
       "</style>\n",
       "<table border=\"1\" class=\"dataframe\">\n",
       "  <thead>\n",
       "    <tr style=\"text-align: right;\">\n",
       "      <th></th>\n",
       "      <th>predictions</th>\n",
       "    </tr>\n",
       "  </thead>\n",
       "  <tbody>\n",
       "    <tr>\n",
       "      <th>20799</th>\n",
       "      <td>139.906268</td>\n",
       "    </tr>\n",
       "    <tr>\n",
       "      <th>13026</th>\n",
       "      <td>139.679255</td>\n",
       "    </tr>\n",
       "    <tr>\n",
       "      <th>7003</th>\n",
       "      <td>139.477529</td>\n",
       "    </tr>\n",
       "    <tr>\n",
       "      <th>19610</th>\n",
       "      <td>139.476751</td>\n",
       "    </tr>\n",
       "    <tr>\n",
       "      <th>17112</th>\n",
       "      <td>139.427533</td>\n",
       "    </tr>\n",
       "    <tr>\n",
       "      <th>...</th>\n",
       "      <td>...</td>\n",
       "    </tr>\n",
       "    <tr>\n",
       "      <th>23889</th>\n",
       "      <td>138.427194</td>\n",
       "    </tr>\n",
       "    <tr>\n",
       "      <th>5845</th>\n",
       "      <td>138.425966</td>\n",
       "    </tr>\n",
       "    <tr>\n",
       "      <th>1817</th>\n",
       "      <td>138.425038</td>\n",
       "    </tr>\n",
       "    <tr>\n",
       "      <th>20614</th>\n",
       "      <td>138.419094</td>\n",
       "    </tr>\n",
       "    <tr>\n",
       "      <th>6690</th>\n",
       "      <td>138.413686</td>\n",
       "    </tr>\n",
       "  </tbody>\n",
       "</table>\n",
       "<p>200 rows × 1 columns</p>\n",
       "</div>"
      ],
      "text/plain": [
       "       predictions\n",
       "20799   139.906268\n",
       "13026   139.679255\n",
       "7003    139.477529\n",
       "19610   139.476751\n",
       "17112   139.427533\n",
       "...            ...\n",
       "23889   138.427194\n",
       "5845    138.425966\n",
       "1817    138.425038\n",
       "20614   138.419094\n",
       "6690    138.413686\n",
       "\n",
       "[200 rows x 1 columns]"
      ]
     },
     "execution_count": 61,
     "metadata": {},
     "output_type": "execute_result"
    }
   ],
   "source": [
    "predictions_df1.sort_values(\"predictions\", ascending=False).head(200)"
   ]
  },
  {
   "cell_type": "code",
   "execution_count": 62,
   "metadata": {},
   "outputs": [
    {
     "ename": "SyntaxError",
     "evalue": "invalid syntax (2954862112.py, line 3)",
     "output_type": "error",
     "traceback": [
      "\u001b[0;36m  File \u001b[0;32m\"/tmp/ipykernel_95/2954862112.py\"\u001b[0;36m, line \u001b[0;32m3\u001b[0m\n\u001b[0;31m    *We provide a summary of the target reserve volume for DataFrame df2,\u001b[0m\n\u001b[0m        ^\u001b[0m\n\u001b[0;31mSyntaxError\u001b[0m\u001b[0;31m:\u001b[0m invalid syntax\n"
     ]
    }
   ],
   "source": [
    "## Target Summary for df2\n",
    "\n",
    "*We provide a summary of the target reserve volume for DataFrame df2,"
   ]
  },
  {
   "cell_type": "code",
   "execution_count": null,
   "metadata": {},
   "outputs": [],
   "source": [
    "predictions_df2.sort_values(\"predictions\", ascending=False).head(200)"
   ]
  },
  {
   "cell_type": "markdown",
   "metadata": {},
   "source": [
    "## Providing Findings: Suggesting a Region for Oil Well Development and Justifying the Choice\n",
    "\n",
    "After conducting the calculations, we observed that regions df0 and df2 have the lowest percentage of loss. Among these two, region df2 shows a slightly higher average profit. However, upon examining the histogram, df1 demonstrates a more centered variance, leading us to recommend it as the region for well development. This decision is based on the balanced risk and potential for gain reflected in df1's data distribution.\n",
    "\n",
    "## Calculating Risks and Profits for Each Region\n",
    "\n",
    "To assess the risks and profits for each region accurately, we employ the bootstrapping technique with 1000 samples to explore the distribution of profits. This statistical approach allows us to estimate the variability and potential outcomes of investing in each region, providing a comprehensive risk assessment and aiding in the decision-making process."
   ]
  },
  {
   "cell_type": "code",
   "execution_count": null,
   "metadata": {},
   "outputs": [],
   "source": [
    "## Reapplying Our Bootstrapping-Based Function to Calculate Profits for Each Region\n",
    "\n",
    "*We once again utilize our bootstrapping-based function to estimate the profits of each region.*"
   ]
  },
  {
   "cell_type": "code",
   "execution_count": null,
   "metadata": {},
   "outputs": [],
   "source": [
    "def calculate_profit(df, n_iters=1000, sample_size=500, selling_price=4500):\n",
    "    benefits = []\n",
    "\n",
    "    for n in range(n_iters):\n",
    "        bootstrap_sample = df.sample(n=sample_size, replace=True)\n",
    "        top_200 = bootstrap_sample.sort_values(by=\"predictions\", ascending=False).reset_index().head(200)\n",
    "\n",
    "        total_profit = (top_200[\"predictions\"] * selling_price).sum()\n",
    "        benefits.append(total_profit)\n",
    "\n",
    "    return benefits"
   ]
  },
  {
   "cell_type": "code",
   "execution_count": null,
   "metadata": {},
   "outputs": [],
   "source": [
    "## Saving the Profits for Each Region\n",
    "\n",
    "*We save the calculated profits for each region.*"
   ]
  },
  {
   "cell_type": "markdown",
   "metadata": {},
   "source": [
    "## Finding the Average Profit, 95% Confidence Interval, and Risk of Loss\n",
    "\n",
    "Determine the average profit, calculate the 95% confidence interval, and assess the risk of losses. A loss is considered a negative gain; calculate it as a probability and then express it as a percentage.\n",
    "\n",
    "### Average Profit"
   ]
  },
  {
   "cell_type": "code",
   "execution_count": null,
   "metadata": {},
   "outputs": [],
   "source": [
    "benefits_df0 = calculate_profit(predictions_df0)\n",
    "benefits_df1 = calculate_profit(predictions_df1)\n",
    "benefits_df2 = calculate_profit(predictions_df2)"
   ]
  },
  {
   "cell_type": "code",
   "execution_count": null,
   "metadata": {},
   "outputs": [],
   "source": [
    "mean_df0 = np.mean(benefits_df0)\n",
    "mean_df1 = np.mean(benefits_df1)\n",
    "mean_df2 = np.mean(benefits_df2)\n",
    "\n",
    "print(f\"Average profit df0: {int(mean_df0)}\")\n",
    "print(f\"Average profit df1: {int(mean_df1)}\")\n",
    "print(f\"Average profit df2: {int(mean_df2)}\")"
   ]
  },
  {
   "cell_type": "code",
   "execution_count": null,
   "metadata": {},
   "outputs": [],
   "source": [
    "## Calculating the 95% Confidence Interval\n",
    "\n",
    "*We calculate the 95% confidence interval for our data to understand the range within which the true mean is likely to fall.*"
   ]
  },
  {
   "cell_type": "code",
   "execution_count": null,
   "metadata": {},
   "outputs": [],
   "source": [
    "confidence_level = 0.95\n",
    "\n",
    "confidence_interval_df0 = stats.t.interval(confidence_level, len(benefits_df0) - 1, loc=np.mean(benefits_df0), scale=stats.sem(benefits_df0))\n",
    "confidence_interval_df1 = stats.t.interval(confidence_level, len(benefits_df1) - 1, loc=np.mean(benefits_df1), scale=stats.sem(benefits_df1))\n",
    "confidence_interval_df2 = stats.t.interval(confidence_level, len(benefits_df2) - 1, loc=np.mean(benefits_df2), scale=stats.sem(benefits_df2))\n",
    "\n",
    "print(\"95% confidence interval for df0:\", confidence_interval_df0)\n",
    "print(\"95% confidence interval for df1:\", confidence_interval_df1)\n",
    "print(\"95% confidence interval for df2:\", confidence_interval_df2)"
   ]
  },
  {
   "cell_type": "markdown",
   "metadata": {},
   "source": [
    "## Calculating the Percentage of Negative Profits\n",
    "\n",
    "*We calculate the percentage of instances where the profits are negative.*"
   ]
  },
  {
   "cell_type": "code",
   "execution_count": null,
   "metadata": {},
   "outputs": [],
   "source": [
    "neg_df0 = (np.array(benefits_df0) < 100000000).mean()\n",
    "neg_df1 = (np.array(benefits_df1) < 100000000).mean()\n",
    "neg_df2 = (np.array(benefits_df2) < 100000000).mean()\n",
    "\n",
    "print(f\"Percentage of negative profits for df0: {neg_df0}\")\n",
    "print(f\"Percentage of negative profits for df1: {neg_df1}\")\n",
    "print(f\"Percentage of negative profits for df2: {neg_df2}\")"
   ]
  },
  {
   "cell_type": "markdown",
   "metadata": {},
   "source": [
    "## Presenting Findings: Recommending a Region for Oil Well Development and Justifying the Selection\n",
    "\n",
    "Upon examining the confidence intervals, we observed **no significant differences** between the regions. As previously mentioned, regions `df0` and `df2` exhibited the lowest percentage of loss. Among these, region `df2` showed slightly higher average profits, albeit by a small margin. However, upon reviewing the histogram, we noted that `df1` displayed a more centralized variance, which leads us to recommend it as the region for developing new wells.\n",
    "\n",
    "## Conclusion:\n",
    "\n",
    "1. **Upon examining the data:**\n",
    "   - Each of the three DataFrames is composed of 100,000 rows and 5 columns, suggesting a robust dataset for analysis.\n",
    "   - The column formats are correct, and the column names are appropriately structured, ensuring data integrity and accessibility for processing.\n",
    "   - There are no null values present within the datasets, indicating completeness and readiness for analysis.\n",
    "   - There are also no duplicate values, which confirms the uniqueness of the data points and validates the quality of the dataset.\n",
    "\n",
    "2. **In training our model with Linear Regression (LR):**\n",
    "   - For `df0`, the Root Mean Square Error (RMSE) indicates that our model's predictions deviate by an average of 38.86 units, which is significant given that the average reserve value is 85.44. Additionally, the scatter plot reveals a lower correlation, as many values deviate from the line of best fit.\n",
    "   - For `df1`, the RMSE value is much lower at 0.88 units, suggesting a high performance of the model, which is also corroborated by the scatter plot that shows a tight clustering of values around the line of best fit, indicating a high correlation.\n",
    "   - Similarly, for `df2`, the RMSE of 0.88 units once again points to a high predictive accuracy, as evidenced by the proximity of data points to the line of best fit in the scatter plot.\n",
    "\n",
    "3. **In calculating profits:**\n",
    "   - The average cost per well stands at 500,000.\n",
    "   - In terms of profit calculation, only in the second region (`df1`) did the profits fail to surpass the costs 1.5% of the time. The other two regions incurred no losses.\n",
    "   - Moreover, regions `df0` (123,954,034) and `df2` (126,435,483) show the highest average profits.\n",
    "\n",
    "4. **In assessing risks and profits through bootstrapping and predictive analysis:**\n",
    "   - Even after considering the confidence intervals, the regions did not exhibit significant differences in terms of profit distribution.\n",
    "   - Revisiting previous observations, regions `df0` and `df2` maintained a lower risk percentage. Despite `df2` having a marginally higher average gain, the more centralized variance observed in the histogram for `df1` makes it a compelling choice for well development.\n",
    "\n",
    "In your research, these findings guide the strategic decision-making process for selecting the most suitable region for oil extraction, taking into account not only the potential financial returns but also the operational risks as evidenced by the data.\n"
   ]
  },
  {
   "cell_type": "code",
   "execution_count": null,
   "metadata": {},
   "outputs": [],
   "source": []
  }
 ],
 "metadata": {
  "kernelspec": {
   "display_name": "Python 3 (ipykernel)",
   "language": "python",
   "name": "python3"
  },
  "language_info": {
   "codemirror_mode": {
    "name": "ipython",
    "version": 3
   },
   "file_extension": ".py",
   "mimetype": "text/x-python",
   "name": "python",
   "nbconvert_exporter": "python",
   "pygments_lexer": "ipython3",
   "version": "3.9.5"
  },
  "toc": {
   "base_numbering": 1,
   "nav_menu": {},
   "number_sections": true,
   "sideBar": true,
   "skip_h1_title": true,
   "title_cell": "Table of Contents",
   "title_sidebar": "Contents",
   "toc_cell": false,
   "toc_position": {},
   "toc_section_display": true,
   "toc_window_display": false
  }
 },
 "nbformat": 4,
 "nbformat_minor": 2
}
